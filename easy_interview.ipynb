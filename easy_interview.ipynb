{
 "cells": [
  {
   "cell_type": "code",
   "execution_count": 102,
   "metadata": {},
   "outputs": [],
   "source": [
    "from collections import defaultdict\n",
    "from collections import Counter\n",
    "\n",
    "def majority_element_indexes(lst):\n",
    "    '''\n",
    "    Return a list of the indexes of the majority element.\n",
    "    Majority element is the element that appears more than\n",
    "    floor(n / 2) times.\n",
    "    If there is no majority element, return []\n",
    "    >>> majority_element_indexes([1, 1, 2])\n",
    "    [0, 1]\n",
    "    >>> majority_element_indexes([1, 2])\n",
    "    []\n",
    "    >>> majority_element_indexes([])\n",
    "    []\n",
    "    '''\n",
    "    r=[]\n",
    "    thresh=len(lst)//2\n",
    "\n",
    "    d=defaultdict(int)\n",
    "    for l in lst:\n",
    "        d[l] += 1\n",
    "\n",
    "    for max_elem,count in d.items():\n",
    "        if(count>thresh):\n",
    "            r=[m for m,elem in enumerate(lst) if elem==max_elem]\n",
    "    \n",
    "    return r\n",
    "                "
   ]
  },
  {
   "cell_type": "code",
   "execution_count": 103,
   "metadata": {},
   "outputs": [
    {
     "name": "stdout",
     "output_type": "stream",
     "text": [
      "[]\n"
     ]
    }
   ],
   "source": [
    "lst=[10,10,11,11]\n",
    "print(majority_element_indexes(lst))"
   ]
  },
  {
   "cell_type": "code",
   "execution_count": 104,
   "metadata": {},
   "outputs": [
    {
     "data": {
      "text/plain": [
       "TestResults(failed=0, attempted=3)"
      ]
     },
     "execution_count": 104,
     "metadata": {},
     "output_type": "execute_result"
    }
   ],
   "source": [
    "import doctest\n",
    "\n",
    "doctest.testmod()"
   ]
  }
 ],
 "metadata": {
  "interpreter": {
   "hash": "aee8b7b246df8f9039afb4144a1f6fd8d2ca17a180786b69acc140d282b71a49"
  },
  "kernelspec": {
   "display_name": "Python 3.9.8 64-bit",
   "language": "python",
   "name": "python3"
  },
  "language_info": {
   "codemirror_mode": {
    "name": "ipython",
    "version": 3
   },
   "file_extension": ".py",
   "mimetype": "text/x-python",
   "name": "python",
   "nbconvert_exporter": "python",
   "pygments_lexer": "ipython3",
   "version": "3.9.8"
  },
  "orig_nbformat": 4
 },
 "nbformat": 4,
 "nbformat_minor": 2
}
