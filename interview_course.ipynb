{
 "cells": [
  {
   "cell_type": "markdown",
   "metadata": {},
   "source": [
    "# Python Coding Interviews: Tips & Best Practices from here: https://realpython.com/courses/python-coding-interviews-tips-best-practices/"
   ]
  },
  {
   "cell_type": "markdown",
   "metadata": {},
   "source": [
    "## Section 1: Built-in Functions"
   ]
  },
  {
   "cell_type": "markdown",
   "metadata": {},
   "source": [
    "### 1.2 range() vs enumerate()"
   ]
  },
  {
   "cell_type": "code",
   "execution_count": 295,
   "metadata": {},
   "outputs": [],
   "source": [
    "def fizz_buzz(numbers):\n",
    "    '''\n",
    "    Replace numbers divisible by 3 with \"fizz\"\n",
    "    Replace numbers divisible by 5 with \"buzz\"\n",
    "    Replace numbers divisibly by 3 and 5 with \"fizzbuzz\"\n",
    "    >>> numbers = [45, 22, 14, 65, 97, 72]\n",
    "    >>> fizz_buzz(numbers)\n",
    "    >>> numbers\n",
    "    ['fizzbuzz', 22, 14, 'buzz', 97, 'fizz']\n",
    "    '''\n",
    "    for i, n in enumerate(numbers):\n",
    "        if n % 3 == 0 and n % 5 == 0:\n",
    "            numbers[i]='fizzbuzz'\n",
    "        elif n % 3 == 0:\n",
    "            numbers[i]='fizz'\n",
    "        elif n % 5 == 0:\n",
    "            numbers[i]='buzz'\n"
   ]
  },
  {
   "cell_type": "code",
   "execution_count": 296,
   "metadata": {},
   "outputs": [
    {
     "data": {
      "text/plain": [
       "['fizzbuzz', 22, 14, 'buzz', 97, 'fizz']"
      ]
     },
     "execution_count": 296,
     "metadata": {},
     "output_type": "execute_result"
    }
   ],
   "source": [
    "numbers=[45, 22, 14, 65, 97, 72]\n",
    "fizz_buzz(numbers)\n",
    "numbers"
   ]
  },
  {
   "cell_type": "code",
   "execution_count": 297,
   "metadata": {},
   "outputs": [],
   "source": [
    "lst = [tup for tup in enumerate(numbers)]\n",
    "if lst == numbers:\n",
    "    print('Yes!')"
   ]
  },
  {
   "cell_type": "markdown",
   "metadata": {},
   "source": [
    "### 1.3 List Comprehensions and Built-In Functions on Lists"
   ]
  },
  {
   "cell_type": "markdown",
   "metadata": {},
   "source": [
    "map"
   ]
  },
  {
   "cell_type": "code",
   "execution_count": 298,
   "metadata": {},
   "outputs": [
    {
     "name": "stdout",
     "output_type": "stream",
     "text": [
      "[1, 4, 25, 9]\n",
      "[1, 4, 25, 9]\n",
      "[1, 4, 25, 9]\n",
      "[1, 4, 25, 9]\n"
     ]
    }
   ],
   "source": [
    "lst = [1, 2, -5, 3]\n",
    "def square(x):\n",
    "    return x*x\n",
    "\n",
    "# square the elements of map\n",
    "\n",
    "# loop\n",
    "m = []\n",
    "for l in lst:\n",
    "    m.append(square(l))\n",
    "print(m)\n",
    "\n",
    "# list comprehensions\n",
    "m=[square(m) for m in lst]\n",
    "print(m)\n",
    "\n",
    "# map applies a function to all of the elements in a list\n",
    "m=[m for m in map(square, lst)]\n",
    "print(m)\n",
    "\n",
    "# or list()\n",
    "m=list(map(square,lst))\n",
    "print(m)"
   ]
  },
  {
   "cell_type": "markdown",
   "metadata": {},
   "source": [
    "filter"
   ]
  },
  {
   "cell_type": "code",
   "execution_count": 299,
   "metadata": {},
   "outputs": [
    {
     "name": "stdout",
     "output_type": "stream",
     "text": [
      "[1, -5, 3]\n",
      "[1, -5, 3]\n",
      "[1, -5, 3]\n",
      "[1, -5, 3]\n"
     ]
    }
   ],
   "source": [
    "# filter selects elements from a list based on a bool function\n",
    "def is_odd(n):\n",
    "    return n % 2 == 1\n",
    "\n",
    "l = []\n",
    "for f in filter(is_odd, lst):\n",
    "    l.append(f)\n",
    "print(l)\n",
    "\n",
    "# or with list comprehension\n",
    "l=[f for f in filter(is_odd, lst)]\n",
    "print(l)\n",
    "\n",
    "# or\n",
    "l=[f for f in lst if is_odd(f)]\n",
    "print(l)\n",
    "\n",
    "# or\n",
    "l=list(filter(is_odd, lst))\n",
    "print(l)\n",
    "\n"
   ]
  },
  {
   "cell_type": "markdown",
   "metadata": {},
   "source": [
    "matrix"
   ]
  },
  {
   "cell_type": "code",
   "execution_count": 300,
   "metadata": {},
   "outputs": [
    {
     "name": "stdout",
     "output_type": "stream",
     "text": [
      "[[0, 0, 0], [0, 0, 0]]\n",
      "[[0, 0, 0], [0, 0, 0]]\n",
      "[[0, 0, 0], [0, 0, 0]]\n"
     ]
    }
   ],
   "source": [
    "# initialize matrix using list comprehensions\n",
    "num_rows=2\n",
    "num_cols=3\n",
    "grid=[]\n",
    "for _ in range(num_rows):\n",
    "    new_row = []\n",
    "    for _ in range(num_cols):\n",
    "        new_row.append(0)\n",
    "    grid.append(new_row)\n",
    "print(grid)\n",
    "\n",
    "# a little better\n",
    "grid=[]\n",
    "for _ in range(num_rows):\n",
    "    grid.append([0 for _ in range(num_cols)])\n",
    "print(grid)\n",
    "\n",
    "# even better\n",
    "grid = [[0 for _ in range(num_cols)] for _ in range(num_rows)]\n",
    "print(grid)\n"
   ]
  },
  {
   "cell_type": "markdown",
   "metadata": {},
   "source": [
    "Override keys in min/max functions"
   ]
  },
  {
   "cell_type": "code",
   "execution_count": 301,
   "metadata": {},
   "outputs": [
    {
     "name": "stdout",
     "output_type": "stream",
     "text": [
      "-5\n",
      "-5\n",
      "-5\n",
      "-5\n"
     ]
    }
   ],
   "source": [
    "# print the number in a list whose square is the largest\n",
    "m=max(lst, key = square)\n",
    "print(m)\n",
    "\n",
    "# use lambda w/ func\n",
    "m=max(lst, key = lambda x : square(x))\n",
    "print(m)\n",
    "\n",
    "# or just lambda\n",
    "fx = lambda x : x*x\n",
    "m=max(lst, key = fx)\n",
    "print(m)\n",
    "\n",
    "# or\n",
    "m=max(lst, key=lambda x : x*x)\n",
    "print(m)\n"
   ]
  },
  {
   "cell_type": "markdown",
   "metadata": {},
   "source": [
    "Using any"
   ]
  },
  {
   "cell_type": "code",
   "execution_count": 302,
   "metadata": {},
   "outputs": [
    {
     "name": "stdout",
     "output_type": "stream",
     "text": [
      "True\n",
      "True\n",
      "False\n",
      "any is_odd [1, 2, -5, 3] True\n",
      "all is_odd [1, 2, -5, 3] False\n"
     ]
    }
   ],
   "source": [
    "# any takes an iterable and returns True if any of the values in the iterable\n",
    "# i.e. any = the OR of all values in the list\n",
    "r=any(lst) # True - an iterable of non-zero ints\n",
    "print(r)\n",
    "\n",
    "# interestingly, it appears that a list itself is always True, regardless of \n",
    "# its contents, so a list of lists (2d array) always returns True from any\n",
    "m=[[0,0,0],[0,0,0]]\n",
    "r=any(m) # True even though all values are zero - an iterable of lists\n",
    "print(r)\n",
    "\n",
    "r=any(m[0]) # False - just the first row, an iterable of zero ints\n",
    "print(r)\n",
    "\n",
    "# Now use any to determine if any elements are odd\n",
    "r=any([is_odd(m) for m in lst])\n",
    "print(\"any is_odd\", lst, r)\n",
    "# Or if all of the elements are odd\n",
    "r=all([is_odd(m) for m in lst])\n",
    "print(\"all is_odd\", lst, r)\n"
   ]
  },
  {
   "cell_type": "markdown",
   "metadata": {},
   "source": [
    "### 1.4 print() and breakpoint()"
   ]
  },
  {
   "cell_type": "code",
   "execution_count": 303,
   "metadata": {},
   "outputs": [
    {
     "data": {
      "text/plain": [
       "<function sum(iterable, /, start=0)>"
      ]
     },
     "execution_count": 303,
     "metadata": {},
     "output_type": "execute_result"
    }
   ],
   "source": [
    "# breakpoint() will invoke the python debugger\n",
    "\n",
    "nums=[-1,0,1,3]\n",
    "\n",
    "# for python version before 3.6, you need to import pdb and do pdb.set_trace()\n",
    "\n",
    "sm=0\n",
    "for num in nums:\n",
    "    breakpoint()\n",
    "    sm = sm+num\n",
    "\n",
    "sum"
   ]
  },
  {
   "cell_type": "markdown",
   "metadata": {},
   "source": [
    "### 1.5 f-Strings\n",
    "\n",
    "formatted strings"
   ]
  },
  {
   "cell_type": "code",
   "execution_count": 304,
   "metadata": {},
   "outputs": [
    {
     "name": "stdout",
     "output_type": "stream",
     "text": [
      "My name is Bob. I am 10 years old.\n",
      "My name is Bob. I am 10 years old.\n",
      "My name is Bob. I am 10 years old.\n",
      "My name is Bob. I am 10 years old.\n",
      "My name is Bob. I am 15 years old.\n"
     ]
    }
   ],
   "source": [
    "age=10\n",
    "name=\"Bob\"\n",
    "# using percent\n",
    "print(\"My name is %s. I am %s years old.\" % (name, age))\n",
    "\n",
    "# using format\n",
    "print(\"My name is {0}. I am {1} years old.\".format(name, age))\n",
    "\n",
    "# or by name with format\n",
    "print(\"My name is {local_name}. I am {local_age} years old.\".format(local_age=age, local_name=name))\n",
    "\n",
    "# or using f-String\n",
    "print(f\"My name is {name}. I am {age} years old.\")\n",
    "\n",
    "# with math\n",
    "print(f\"My name is {name}. I am {age + 5} years old.\")"
   ]
  },
  {
   "cell_type": "markdown",
   "metadata": {},
   "source": [
    "### 1.6 Sorting lists using sorted"
   ]
  },
  {
   "cell_type": "code",
   "execution_count": 305,
   "metadata": {},
   "outputs": [
    {
     "name": "stdout",
     "output_type": "stream",
     "text": [
      "['cat', 'dog', 'rhino']\n",
      "['dog', 'rhino', 'cat']\n"
     ]
    }
   ],
   "source": [
    "# sorted() sorts a list\n",
    "\n",
    "animals=['dog', 'cat', 'rhino']\n",
    "sa=sorted(animals)\n",
    "print(sa)\n",
    "# provide a custom key to use for sorting\n",
    "# sort by the last letter\n",
    "sa=sorted(animals, key=lambda animal : animal[-1])\n",
    "print(sa)\n"
   ]
  },
  {
   "cell_type": "code",
   "execution_count": 306,
   "metadata": {},
   "outputs": [
    {
     "name": "stdout",
     "output_type": "stream",
     "text": [
      "[{'make': 'VW', 'model': 'Bug', 'color': 'white', 'year': 1967}, {'make': 'Kia', 'model': 'Sedona', 'color': 'white', 'year': 2013}, {'make': 'Tesla', 'model': 'Y', 'color': 'red', 'year': 2015}]\n",
      "The Tesla is the newest car.\n"
     ]
    }
   ],
   "source": [
    "# provide a dict\n",
    "cars = [\n",
    "    {'make' : 'Tesla', 'model' : 'Y', 'color' : 'red', 'year' : 2015},\n",
    "    {'make' : 'VW', 'model' : 'Bug', 'color' : 'white', 'year' : 1967},\n",
    "    {'make' : 'Kia', 'model' : 'Sedona', 'color' : 'white', 'year' : 2013}\n",
    "]\n",
    "\n",
    "# this doesn't work for dicts\n",
    "# sa=sorted(cars)\n",
    "# use the key to specify how to sort\n",
    "sa=sorted(cars, key = lambda car : car['year'])\n",
    "print(sa)\n",
    "# print the newest car\n",
    "sa=sorted(cars, key = lambda car : car['year'], reverse=True)\n",
    "print(f\"The {sa[0]['make']} is the newest car.\")\n"
   ]
  },
  {
   "cell_type": "markdown",
   "metadata": {},
   "source": [
    "## Section 2: Leveraging Data Structures (Built-in and Standard Library)\n",
    "### 2.1 Sets"
   ]
  },
  {
   "cell_type": "code",
   "execution_count": 307,
   "metadata": {},
   "outputs": [
    {
     "name": "stdout",
     "output_type": "stream",
     "text": [
      "4\n"
     ]
    }
   ],
   "source": [
    "# brute force\n",
    "def count_unique_brute_force(s):\n",
    "    \"\"\"\n",
    "    Count number of unique characters in s\n",
    "    >>> count_unique(\"aabb\")\n",
    "    2\n",
    "    >>> count_unique(\"abababab\")\n",
    "    2\n",
    "    >>> count_unique(\"abcdefgh\")\n",
    "    8\n",
    "    \"\"\"\n",
    "    tally=[]\n",
    "    for c in s:\n",
    "        if not c in tally:\n",
    "            tally.append(c)\n",
    "    return len(tally)\n",
    "\n",
    "num_unique=count_unique_brute_force(\"aaaabcd\")\n",
    "print(num_unique)\n"
   ]
  },
  {
   "cell_type": "code",
   "execution_count": 308,
   "metadata": {},
   "outputs": [
    {
     "name": "stdout",
     "output_type": "stream",
     "text": [
      "4\n"
     ]
    }
   ],
   "source": [
    "\n",
    "# using set\n",
    "def count_unique(s):\n",
    "    \"\"\"\n",
    "    Count number of unique characters in s\n",
    "    >>> count_unique(\"aabb\")\n",
    "    2\n",
    "    >>> count_unique(\"abababab\")\n",
    "    2\n",
    "    >>> count_unique(\"abcdefgh\")\n",
    "    8\n",
    "    \"\"\"\n",
    "    # could use set comprehension:\n",
    "    # return len({c for c in s})\n",
    "    return len(set(s))\n",
    "\n",
    "num_unique=count_unique(\"aaaabcd\")\n",
    "print(num_unique)\n"
   ]
  },
  {
   "cell_type": "markdown",
   "metadata": {},
   "source": [
    "## 2.2 Generators\n",
    "Generators produce a sequence of values"
   ]
  },
  {
   "cell_type": "code",
   "execution_count": 309,
   "metadata": {},
   "outputs": [
    {
     "name": "stdout",
     "output_type": "stream",
     "text": [
      "1\n",
      "-5\n",
      "7\n",
      "9\n",
      "-1\n"
     ]
    }
   ],
   "source": [
    "import sys\n",
    "\n",
    "# a generator generates values \"on the fly\", so it uses less memory\n",
    "# use parentheses\n",
    "l = [1, -5, 7, 9, -1]\n",
    "g = (i for i in l)\n",
    "\n",
    "print(next(g))\n",
    "print(next(g))\n",
    "print(next(g))\n",
    "print(next(g))\n",
    "print(next(g))\n",
    "\n"
   ]
  },
  {
   "cell_type": "code",
   "execution_count": 310,
   "metadata": {},
   "outputs": [
    {
     "name": "stdout",
     "output_type": "stream",
     "text": [
      "1\n",
      "-5\n",
      "[1, -5, 7, 9, -1]\n"
     ]
    }
   ],
   "source": [
    "# or use a function\n",
    "def f():\n",
    "    for i in l:\n",
    "        yield i\n",
    "\n",
    "# this is a function that \"yields\" at each yield statement\n",
    "# the function doesn't run, it just assigns g to the generator\n",
    "g=f()\n",
    "\n",
    "# this invocation causes f to run up to the yield\n",
    "print(next(g))\n",
    "# this invocation causes f to run up to the next invocation of yield\n",
    "print(next(g))\n",
    "\n",
    "# convert to a list\n",
    "new_l=list(f())\n",
    "print(new_l)"
   ]
  },
  {
   "cell_type": "markdown",
   "metadata": {},
   "source": [
    "### 2.3 Dictionaries and collections.defaultdict"
   ]
  },
  {
   "cell_type": "code",
   "execution_count": 311,
   "metadata": {},
   "outputs": [],
   "source": [
    "student_grades = {\n",
    "    \"Jack\": [85, 90],\n",
    "    \"Jill\": [80, 95]\n",
    "}\n",
    "\n",
    "def get_grades_naive(name):\n",
    "    if name in student_grades:\n",
    "        return student_grades[name]\n",
    "    return []\n",
    "\n",
    "# use .get with default value for when the index doesn't exist\n",
    "def get_grades_better(name):\n",
    "    return student_grades.get(name, [])\n",
    "\n",
    "# check for and if index doesn't exists add it and set it to the default\n",
    "def get_grades_with_assignment(name):\n",
    "    if not name in student_grades:\n",
    "        student_grades[name]=[]\n",
    "    return student_grades[name]\n",
    "\n",
    "# use setdefault to add the index and set it to a default value if it doesn't exist\n",
    "def get_grades_with_assignment_better(name):\n",
    "    return student_grades.setdefault(name, [])\n",
    "\n"
   ]
  },
  {
   "cell_type": "code",
   "execution_count": 312,
   "metadata": {},
   "outputs": [],
   "source": [
    "\n",
    "# now setters\n",
    "def set_grade_naive(name, grade):\n",
    "    if name in student_grades:\n",
    "        student_grades[name].append(grade)\n",
    "    else:\n",
    "        student_grades[name] = [grade]\n",
    "\n",
    "def set_grade_better(name, grade):\n",
    "    student_grades.setdefault(name, [])\n",
    "    student_grades[name].append(grade)"
   ]
  },
  {
   "cell_type": "code",
   "execution_count": 313,
   "metadata": {},
   "outputs": [
    {
     "name": "stdout",
     "output_type": "stream",
     "text": [
      "defaultdict(<class 'list'>, {'Jill': [90, 95]})\n",
      "defaultdict(<class 'list'>, {'Jill': [90, 95, 93]})\n",
      "defaultdict(<class 'list'>, {'Jill': [90, 95, 93], 'John': [88]})\n"
     ]
    }
   ],
   "source": [
    "# Now use defaultdict\n",
    "from collections import defaultdict\n",
    "\n",
    "# create the initial state of the defaultdict\n",
    "d={} # d could have initial content to set the initial defaultdict\n",
    "d={\"Jill\": [90, 95]}\n",
    "\n",
    "# the first argument is a function that creates the default dict entry\n",
    "# the second argument is the initial value of the dict\n",
    "student_grades=defaultdict(list, d)\n",
    "print(student_grades)\n",
    "\n",
    "# this basically does everything we did manually above\n",
    "def set_grade_best(name, score):\n",
    "    # create a default dict entry if an entry associated with name \n",
    "    # doesn't already exist\n",
    "    student_grades[name].append(score)\n",
    "\n",
    "set_grade_best(\"Jill\", 93)\n",
    "print(student_grades)\n",
    "\n",
    "set_grade_best(\"John\", 88)\n",
    "print(student_grades)\n"
   ]
  },
  {
   "cell_type": "code",
   "execution_count": 314,
   "metadata": {},
   "outputs": [
    {
     "name": "stdout",
     "output_type": "stream",
     "text": [
      "defaultdict(<function <lambda> at 0x10e703670>, {'Jack': 70})\n",
      "defaultdict(<function <lambda> at 0x10e703670>, {'Jack': 100})\n"
     ]
    }
   ],
   "source": [
    "# You can use a lambda for the function\n",
    "student_score=defaultdict(lambda : 70)\n",
    "student_score[\"Jack\"]\n",
    "print(student_score)\n",
    "student_score[\"Jack\"] = 100\n",
    "print(student_score)"
   ]
  },
  {
   "cell_type": "code",
   "execution_count": 315,
   "metadata": {},
   "outputs": [
    {
     "name": "stdout",
     "output_type": "stream",
     "text": [
      "defaultdict(<function item at 0x10e6dc430>,\n",
      "            {'Noodles': {'Code': 'code', 'Price': 0.5},\n",
      "             'Parmesan': {'Code': 'xxyz', 'Price': 0.1},\n",
      "             'Sauce': {'Code': 'aabb', 'Price': 0.05}})\n",
      "defaultdict(<function <lambda> at 0x10e703b80>,\n",
      "            {'Noodles': {'Code': 'pqrs', 'Price': 0.0},\n",
      "             'Parmesan': {'Code': 'xxyz', 'Price': 0.1},\n",
      "             'Sauce': {'Code': 'aabb', 'Price': 0.05}})\n"
     ]
    }
   ],
   "source": [
    "from pprint import pprint\n",
    "\n",
    "# Now play around\n",
    "def item(code=0, price=0.0):\n",
    "    return {\"Code\" : code, \"Price\" : price}\n",
    "\n",
    "sauce={\"Sauce\" : item(code=\"aabb\", price=0.05),\n",
    "       \"Parmesan\" : item(code=\"xxyz\", price=0.10)}\n",
    "# inventory is a dict of dicts, not a list of dicts\n",
    "inventory=defaultdict(item, sauce)\n",
    "inventory[\"Noodles\"]= item(\"code\", 0.50)\n",
    "pprint(inventory)\n",
    "\n",
    "# Should be the same:\n",
    "inventory=defaultdict(lambda: {\"Code\" : 0, \"Price\" : 0.0}, sauce)\n",
    "inventory[\"Noodles\"][\"Code\"] = \"pqrs\"\n",
    "pprint(inventory)\n"
   ]
  },
  {
   "cell_type": "markdown",
   "metadata": {},
   "source": [
    "### 2.4 collections.Counter"
   ]
  },
  {
   "cell_type": "code",
   "execution_count": 316,
   "metadata": {},
   "outputs": [
    {
     "data": {
      "text/plain": [
       "[('a', 4), ('c', 3), ('b', 2)]"
      ]
     },
     "execution_count": 316,
     "metadata": {},
     "output_type": "execute_result"
    }
   ],
   "source": [
    "from collections import defaultdict\n",
    "\n",
    "def top_three_letters(str):\n",
    "    \"\"\"\n",
    "    Given a string find the top three most\n",
    "    frequent letters.\n",
    "    Return a list of tuples where the tuple\n",
    "    contains the character and the count\n",
    "    >>> top_three_letters(\"abbccc\")\n",
    "    [('c', 3), ('b', 2), ('a', 1)]\n",
    "    >>> top_three_letters(\"aabbcc\")\n",
    "    [('a', 2), ('b', 2), ('c', 2)]\n",
    "    \"\"\"\n",
    "    d=defaultdict(lambda: 0)\n",
    "    for c in str:\n",
    "        d[c] += 1\n",
    "    lst=[c for c in d.items()]\n",
    "    return sorted(lst, key=lambda n : n[1], reverse=True)[:3]\n",
    "\n",
    "top_three_letters(\"abbcccdefgaaa\")\n"
   ]
  },
  {
   "cell_type": "code",
   "execution_count": 317,
   "metadata": {},
   "outputs": [
    {
     "data": {
      "text/plain": [
       "[('a', 4), ('c', 3), ('b', 2)]"
      ]
     },
     "execution_count": 317,
     "metadata": {},
     "output_type": "execute_result"
    }
   ],
   "source": [
    "# Now the easy way\n",
    "from collections import Counter\n",
    "\n",
    "def top_three_letters_better(str):\n",
    "    \"\"\"\n",
    "    Given a string find the top three most\n",
    "    frequent letters.\n",
    "    Return a list of tuples where the tuple\n",
    "    contains the character and the count\n",
    "    >>> top_three_letters_better(\"abbccc\")\n",
    "    [('c', 3), ('b', 2), ('a', 1)]\n",
    "    >>> top_three_letters_better(\"aabbcc\")\n",
    "    [('a', 2), ('b', 2), ('c', 2)]\n",
    "    \"\"\"\n",
    "    #lst=list(Counter(str).items())\n",
    "    #return(sorted(lst, key=lambda b : b[1], reverse=True)[:3])\n",
    "    return Counter(str).most_common(3)\n",
    "\n",
    "top_three_letters_better(\"abbcccdefgaaa\")\n"
   ]
  },
  {
   "cell_type": "markdown",
   "metadata": {},
   "source": [
    "### 2.5 collections.deque - Double ended queue"
   ]
  },
  {
   "cell_type": "code",
   "execution_count": 318,
   "metadata": {},
   "outputs": [
    {
     "name": "stdout",
     "output_type": "stream",
     "text": [
      "Jack has been added to the queue\n",
      "Jill has bypassed the queue\n",
      "Jill has been serviced\n"
     ]
    }
   ],
   "source": [
    "class TicketList(object):\n",
    "    def __init__(self) -> None:\n",
    "        super().__init__()\n",
    "        self.queue=[]\n",
    "\n",
    "    def add_person(self, name):\n",
    "        \"\"\"\n",
    "        >>> queue = TicketList()\n",
    "        >>> queue.add_person(\"Jack\")\n",
    "        Jack has been added to the queue\n",
    "        \"\"\"\n",
    "        self.queue.append(name)\n",
    "        print(f\"{self.queue[-1]} has been added to the queue\")\n",
    "\n",
    "    def service_person(self):\n",
    "        \"\"\"\n",
    "        >>> queue = TicketList()\n",
    "        >>> queue.add_person(\"Jack\")\n",
    "        Jack has been added to the queue\n",
    "        >>> queue.service_person()\n",
    "        Jack has been serviced\n",
    "        \"\"\"\n",
    "        person = self.queue.pop(0)\n",
    "        print(f\"{person} has been serviced\")\n",
    "\n",
    "    def bypass_queue(self, name):\n",
    "        \"\"\"\n",
    "        >>> queue = TicketList()\n",
    "        >>> queue.add_person(\"Jack\")\n",
    "        Jack has been added to the queue\n",
    "        >>> queue.bypass_queue(\"Jill\")\n",
    "        Jill has bypassed the queue\n",
    "        \"\"\"\n",
    "        # self.queue = [name] + self.queue\n",
    "        self.queue.insert(0,name)\n",
    "        print(f\"{self.queue[0]} has bypassed the queue\")\n",
    "\n",
    "queue = TicketList()\n",
    "queue.add_person(\"Jack\")\n",
    "queue.bypass_queue(\"Jill\")\n",
    "queue.service_person()\n"
   ]
  },
  {
   "cell_type": "code",
   "execution_count": 319,
   "metadata": {},
   "outputs": [
    {
     "name": "stdout",
     "output_type": "stream",
     "text": [
      "Jack has been added to the queue\n",
      "Jill has bypassed the queue\n",
      "Jill has been serviced\n",
      "Jack has been serviced\n",
      "The queue is empty\n"
     ]
    }
   ],
   "source": [
    "# Now use deque\n",
    "from collections import deque\n",
    "\n",
    "class TicketQueue(object):\n",
    "    def __init__(self) -> None:\n",
    "        super().__init__()\n",
    "        self.queue=deque()\n",
    "\n",
    "    def add_person(self, name):\n",
    "        \"\"\"\n",
    "        >>> queue = TicketQueue()\n",
    "        >>> queue.add_person(\"Jack\")\n",
    "        Jack has been added to the queue\n",
    "        \"\"\"\n",
    "        self.queue.append(name)\n",
    "        print(f\"{self.queue[-1]} has been added to the queue\")\n",
    "\n",
    "    def service_person(self):\n",
    "        \"\"\"\n",
    "        >>> queue = TicketQueue()\n",
    "        >>> queue.add_person(\"Jack\")\n",
    "        Jack has been added to the queue\n",
    "        >>> queue.service_person()\n",
    "        Jack has been serviced\n",
    "        >>> queue.service_person()\n",
    "        The queue is empty\n",
    "        \"\"\"\n",
    "        if self.queue:\n",
    "            person = self.queue.popleft()\n",
    "            print(f\"{person} has been serviced\")\n",
    "        else:\n",
    "            print(\"The queue is empty\")\n",
    "\n",
    "    def bypass_queue(self, name):\n",
    "        \"\"\"\n",
    "        >>> queue = TicketQueue()\n",
    "        >>> queue.add_person(\"Jack\")\n",
    "        Jack has been added to the queue\n",
    "        >>> queue.bypass_queue(\"Jill\")\n",
    "        Jill has bypassed the queue\n",
    "        >>> queue.service_person()\n",
    "        Jill has been serviced\n",
    "        >>> queue.service_person()\n",
    "        Jack has been serviced\n",
    "        >>> queue.service_person()\n",
    "        The queue is empty\n",
    "        \"\"\"\n",
    "        self.queue.appendleft(name)\n",
    "        print(f\"{self.queue[0]} has bypassed the queue\")\n",
    "\n",
    "queue = TicketQueue()\n",
    "queue.add_person(\"Jack\")\n",
    "queue.bypass_queue(\"Jill\")\n",
    "queue.service_person()\n",
    "queue.service_person()\n",
    "queue.service_person()\n"
   ]
  },
  {
   "cell_type": "markdown",
   "metadata": {},
   "source": [
    "### 2.6 collections.namedtuple"
   ]
  },
  {
   "cell_type": "code",
   "execution_count": 320,
   "metadata": {},
   "outputs": [
    {
     "name": "stdout",
     "output_type": "stream",
     "text": [
      "Car(Make='Tesla', Model='Model Y', Mileage='500')\n",
      "My car is a Tesla Model Y\n"
     ]
    }
   ],
   "source": [
    "# namedtuple is like a struct or class, but is immutable\n",
    "from collections import namedtuple\n",
    "\n",
    "# First argument is the name of the class, then the name of the members\n",
    "Car = namedtuple(\"Car\", [\"Make\", \"Model\", \"Mileage\"])\n",
    "\n",
    "my_car = Car(\"Tesla\", \"Model Y\", \"500\")\n",
    "pprint(my_car)\n",
    "\n",
    "# namedtuple is immutable, error:\n",
    "# my_car.Make=\"VW\"\n",
    "print(f\"My car is a {my_car.Make} {my_car.Model}\")"
   ]
  },
  {
   "cell_type": "markdown",
   "metadata": {},
   "source": [
    "## Part 3: Using Python's Standard Library\n",
    "### 3.1 string Module"
   ]
  },
  {
   "cell_type": "code",
   "execution_count": 321,
   "metadata": {},
   "outputs": [
    {
     "name": "stdout",
     "output_type": "stream",
     "text": [
      "97\n",
      "65\n",
      "False\n",
      "True\n",
      "ABCDEFGHIJKLMNOPQRSTUVWXYZ\n",
      "abcdefghijklmnopqrstuvwxyz\n",
      "abcdefghijklmnopqrstuvwxyzABCDEFGHIJKLMNOPQRSTUVWXYZ\n"
     ]
    }
   ],
   "source": [
    "import string\n",
    "\n",
    "print(ord('a'))\n",
    "print(ord('A'))\n",
    "print('A' > 'a')\n",
    "\n",
    "print('HELLO WORLD'.isupper())\n",
    "print(string.ascii_uppercase)\n",
    "print(string.ascii_lowercase)\n",
    "print(string.ascii_letters)"
   ]
  },
  {
   "cell_type": "code",
   "execution_count": 322,
   "metadata": {},
   "outputs": [
    {
     "name": "stdout",
     "output_type": "stream",
     "text": [
      "165 ns ± 2.25 ns per loop (mean ± std. dev. of 7 runs, 10,000,000 loops each)\n",
      "137 ns ± 2.89 ns per loop (mean ± std. dev. of 7 runs, 10,000,000 loops each)\n",
      "660 ns ± 15.9 ns per loop (mean ± std. dev. of 7 runs, 1,000,000 loops each)\n",
      "659 ns ± 12.3 ns per loop (mean ± std. dev. of 7 runs, 1,000,000 loops each)\n",
      "742 ns ± 3.53 ns per loop (mean ± std. dev. of 7 runs, 1,000,000 loops each)\n",
      "56.2 ns ± 0.184 ns per loop (mean ± std. dev. of 7 runs, 10,000,000 loops each)\n"
     ]
    }
   ],
   "source": [
    "# in ipython you can benchmark python code using %timeit\n",
    "\n",
    "def is_upper(s):\n",
    "    for c in s:\n",
    "        if s not in string.ascii_uppercase:\n",
    "            return False\n",
    "    return True\n",
    "\n",
    "# use a set instead of string to speed up the search\n",
    "st=set(string.ascii_uppercase)\n",
    "\n",
    "def is_upper_using_set(s):\n",
    "    for c in s:\n",
    "        if s not in st:\n",
    "            return False\n",
    "    return True\n",
    "\n",
    "# cleaner but faster?  Let's see\n",
    "def is_upper_cleaner(s):\n",
    "    t=[c in st for c in s]\n",
    "    return all(t)\n",
    "\n",
    "def is_upper_cleaner_generator(s):\n",
    "    t=(c in st for c in s)\n",
    "    return all(t)\n",
    "\n",
    "def is_upper_cleaner_generator_b(s):\n",
    "    t=(c for c in s if c in st)\n",
    "    return all(t)\n",
    "\n",
    "# Slow\n",
    "%timeit is_upper('ABCDabcd')\n",
    "# Faster\n",
    "%timeit is_upper_using_set('ABCDabcd')\n",
    "# Cleaner\n",
    "%timeit is_upper_cleaner('ABCDabcd')\n",
    "# Cleaner, generator\n",
    "%timeit is_upper_cleaner_generator('ABCDabcd')\n",
    "# Cleaner, generator b\n",
    "%timeit is_upper_cleaner_generator_b('ABCDabcd')\n",
    "# Fastest\n",
    "%timeit 'ABCDabcd'.isupper()"
   ]
  },
  {
   "cell_type": "code",
   "execution_count": 323,
   "metadata": {},
   "outputs": [
    {
     "data": {
      "text/plain": [
       "'Helloworld'"
      ]
     },
     "execution_count": 323,
     "metadata": {},
     "output_type": "execute_result"
    }
   ],
   "source": [
    "# built-in constants\n",
    "string.ascii_letters\n",
    "string.ascii_lowercase\n",
    "string.ascii_uppercase\n",
    "string.digits\n",
    "string.hexdigits\n",
    "string.octdigits\n",
    "string.printable\n",
    "string.punctuation\n",
    "string.whitespace\n",
    "\n",
    "# remove whitespace using a generator\n",
    "str='Hello world'\n",
    "''.join(c for c in str if c not in string.whitespace)"
   ]
  },
  {
   "cell_type": "markdown",
   "metadata": {},
   "source": [
    "### 3.2 itertools module"
   ]
  },
  {
   "cell_type": "markdown",
   "metadata": {},
   "source": [
    "itertools.repeat"
   ]
  },
  {
   "cell_type": "code",
   "execution_count": 324,
   "metadata": {},
   "outputs": [
    {
     "name": "stdout",
     "output_type": "stream",
     "text": [
      "1\n",
      "1\n"
     ]
    },
    {
     "data": {
      "text/plain": [
       "[1, 1, 1, 1]"
      ]
     },
     "execution_count": 324,
     "metadata": {},
     "output_type": "execute_result"
    }
   ],
   "source": [
    "# itertools returns iterators that can be used to loop efficiently\n",
    "import itertools as it\n",
    "\n",
    "all_ones = it.repeat(1)\n",
    "print(next(all_ones))\n",
    "print(next(all_ones))\n",
    "\n",
    "all_ones=it.repeat(1, times=4)\n",
    "list(all_ones)"
   ]
  },
  {
   "cell_type": "code",
   "execution_count": 325,
   "metadata": {},
   "outputs": [
    {
     "name": "stdout",
     "output_type": "stream",
     "text": [
      "[0, 1, 4, 9, 16, 25, 36, 49, 64, 81]\n"
     ]
    }
   ],
   "source": [
    "# use in a map to provide a constant value\n",
    "# pow(0,2)\n",
    "# pow(1,2)\n",
    "# pow(2,2) ...\n",
    "m=map(pow, range(10), it.repeat(2))\n",
    "lst=list(m)\n",
    "print(lst)\n"
   ]
  },
  {
   "cell_type": "markdown",
   "metadata": {},
   "source": [
    "itertools.cycle"
   ]
  },
  {
   "cell_type": "code",
   "execution_count": 326,
   "metadata": {},
   "outputs": [
    {
     "name": "stdout",
     "output_type": "stream",
     "text": [
      "[0, 1, 4, 9, 16, 25, 36, 49, 64, 81]\n",
      "[0, 1, 4, 9, 16, 25, 36, 49, 64, 81, 0, 1, 4, 9, 16, 25, 36, 49, 64, 81, 0, 1]\n",
      "[1, -1, 1, -1, 1, -1, 1, -1, 1, -1, 1, -1, 1, -1, 1, -1]\n",
      "[1, -1, 1, -1, 1, -1, 1, -1, 1, -1, 1, -1, 1, -1, 1, -1]\n"
     ]
    }
   ],
   "source": [
    "# cycle will cycle through an iterable\n",
    "print(lst)\n",
    "cyc=it.cycle(lst)\n",
    "long_lst=[next(cyc) for _ in range(22)]\n",
    "print(long_lst)\n",
    "\n",
    "# or\n",
    "modulator=it.cycle([1,-1])\n",
    "sig=[next(modulator) for _ in range(16)]\n",
    "print(sig)\n",
    "\n",
    "# or a generator\n",
    "sig=(next(modulator) for _ in range(16))\n",
    "print(list(sig))"
   ]
  },
  {
   "cell_type": "markdown",
   "metadata": {},
   "source": [
    "itertools.permutations and itertools.combinations"
   ]
  },
  {
   "cell_type": "code",
   "execution_count": 327,
   "metadata": {},
   "outputs": [
    {
     "name": "stdout",
     "output_type": "stream",
     "text": [
      "[('Red', 'Green', 'Blue'), ('Red', 'Blue', 'Green'), ('Green', 'Red', 'Blue'), ('Green', 'Blue', 'Red'), ('Blue', 'Red', 'Green'), ('Blue', 'Green', 'Red')]\n",
      "[('Red', 'Green', 'Blue')]\n",
      "[('Red', 'Green'), ('Red', 'Blue'), ('Green', 'Red'), ('Green', 'Blue'), ('Blue', 'Red'), ('Blue', 'Green')]\n",
      "[('Red', 'Green'), ('Red', 'Blue'), ('Green', 'Blue')]\n",
      "[['Green', 'Red'], ['Blue', 'Red'], ['Blue', 'Green']]\n"
     ]
    }
   ],
   "source": [
    "# it.permutations cares about order, it.combinations doesn't\n",
    "colors=[\"Red\", \"Green\", \"Blue\"]\n",
    "print(list(it.permutations(colors,r=3)))\n",
    "print(list(it.combinations(colors,r=3)))\n",
    "\n",
    "print(list(it.permutations(colors,r=2)))\n",
    "print(list(it.combinations(colors,r=2)))\n",
    "\n",
    "# try getting combinations from permutations for kicks\n",
    "comb_from_per=[sorted(list(m)) for m in it.permutations(colors,r=2)]\n",
    "comb=[]\n",
    "for p in comb_from_per:\n",
    "    if p not in comb:\n",
    "        comb.append(p)\n",
    "\n",
    "print(comb)"
   ]
  },
  {
   "cell_type": "markdown",
   "metadata": {},
   "source": [
    "### 3.3 functools module"
   ]
  },
  {
   "cell_type": "markdown",
   "metadata": {},
   "source": [
    "functools.reduce"
   ]
  },
  {
   "cell_type": "code",
   "execution_count": 328,
   "metadata": {},
   "outputs": [
    {
     "name": "stdout",
     "output_type": "stream",
     "text": [
      "[1, -1, 1, -1, 1, -1, 1, -1, 1, -1, 1, -1]\n",
      "0\n",
      "1\n"
     ]
    }
   ],
   "source": [
    "# reduce combines a list using a function:\n",
    "# f(f(f(l[0],l[1]), l[2]), l[3])\n",
    "from functools import reduce\n",
    "\n",
    "fx=it.cycle([1,-1])\n",
    "x=[next(fx) for _ in range(12)]\n",
    "pprint(x)\n",
    "print(reduce(lambda x,y: x+y, x))\n",
    "print(reduce(lambda x,y: x*y, x))\n",
    "#reduce"
   ]
  },
  {
   "cell_type": "markdown",
   "metadata": {},
   "source": [
    "caching - functools.cached_property and functools.lru_cache"
   ]
  },
  {
   "cell_type": "markdown",
   "metadata": {},
   "source": [
    "BACKGROUND:  A class property in python looks like a variable but has a layer of methods for setting and getting.  If the variable is accessed, it's actually calling the setter or getter under the covers (if one is defined).  Adding the <code>@property</code> <i>decorator</i> causes the class member to inherit from property which contains getter and setter interfaces.  Getter and setters can be explicit with <code>@f.getter</code> and <code>@f.setter</code> for a <code>@property</code> called <code>f</code>.  See below.\n",
    "\n",
    "See https://stackoverflow.com/questions/7374748/whats-the-difference-between-a-python-property-and-attribute"
   ]
  },
  {
   "cell_type": "markdown",
   "metadata": {},
   "source": [
    "<code>@property</code> example"
   ]
  },
  {
   "cell_type": "code",
   "execution_count": 1,
   "metadata": {},
   "outputs": [
    {
     "name": "stdout",
     "output_type": "stream",
     "text": [
      "9\n",
      "8\n",
      "19\n"
     ]
    }
   ],
   "source": [
    "# showing an example of property\n",
    "\n",
    "class MyClass:\n",
    "    def __init__(self,x_arg) -> None:\n",
    "        self._x=0\n",
    "        self.x=x_arg # this calls the setter\n",
    "\n",
    "    @property\n",
    "    def x(self):\n",
    "        return self._x\n",
    "\n",
    "    @x.setter\n",
    "    def x(self, x):\n",
    "        self._x=2*x\n",
    "\n",
    "    @x.getter\n",
    "    def x(self):\n",
    "        self._x=self._x-1\n",
    "        return self._x\n",
    "\n",
    "c=MyClass(5)\n",
    "print(c.x) # this calls the getter\n",
    "print(c.x) # this calls the getter\n",
    "\n",
    "c.x=10 # this actually calls the setter\n",
    "print(c.x)\n"
   ]
  },
  {
   "cell_type": "markdown",
   "metadata": {},
   "source": [
    "<code>@cached_property</code> example"
   ]
  },
  {
   "cell_type": "code",
   "execution_count": 330,
   "metadata": {},
   "outputs": [
    {
     "name": "stdout",
     "output_type": "stream",
     "text": [
      "Do long calculation the first time\n",
      "100\n",
      "100\n"
     ]
    }
   ],
   "source": [
    "# showing an example of cached_property\n",
    "from functools import cached_property\n",
    "\n",
    "class MyCachedClass:\n",
    "    def __init__(self) -> None:\n",
    "        pass\n",
    "\n",
    "    @cached_property\n",
    "    def x(self):\n",
    "        # return something that takes a long time to calculate, but that will never change\n",
    "        print(\"Do long calculation the first time\")\n",
    "        return 100\n",
    "\n",
    "\n",
    "c=MyCachedClass()\n",
    "print(c.x) # this appears to call MyClass.x()\n",
    "print(c.x) # this returns the cached value from the first call, but doesn't run x() again\n"
   ]
  },
  {
   "cell_type": "markdown",
   "metadata": {},
   "source": [
    "<code>@lru_cache</code> is similar for methods, but it remembers the argument and creates a map between the argument and the Least Recently Used value for that argument"
   ]
  },
  {
   "cell_type": "code",
   "execution_count": 331,
   "metadata": {},
   "outputs": [
    {
     "name": "stdout",
     "output_type": "stream",
     "text": [
      "Calculating f(5)\n",
      "5\n",
      "5\n",
      "Calculating f(6)\n",
      "6\n",
      "6\n",
      "5\n"
     ]
    }
   ],
   "source": [
    "# lru stands for least recently used\n",
    "from functools import lru_cache\n",
    "\n",
    "class Data:\n",
    "    def __init__(self) -> None:\n",
    "        pass\n",
    "    \n",
    "    @lru_cache\n",
    "    def f(self, n):\n",
    "        print(f'Calculating f({n})')\n",
    "        return n\n",
    "\n",
    "d=Data()\n",
    "print(d.f(5)) # this does the calculation\n",
    "print(d.f(5)) # this returns the cached value\n",
    "\n",
    "print(d.f(6)) # this does the calculation for the new value\n",
    "print(d.f(6)) # this returns the cached value\n",
    "\n",
    "print(d.f(5)) # returns the cached value\n"
   ]
  },
  {
   "cell_type": "markdown",
   "metadata": {},
   "source": [
    "3.4 doctest and assert\n",
    "\n",
    "<code>python3 -m doctest.py</code>\n",
    "\n",
    "Can use -v for verbose"
   ]
  },
  {
   "cell_type": "code",
   "execution_count": 339,
   "metadata": {},
   "outputs": [],
   "source": [
    "# doctest can be used to check if expected errors occur\n",
    "class A():\n",
    "    def f(self):\n",
    "        '''\n",
    "        >>> a = A()\n",
    "        >>> a.f()\n",
    "        Hello world\n",
    "        'Hello world'\n",
    "        '''\n",
    "        rval='Hello world'\n",
    "        print(rval)\n",
    "        return(rval)\n",
    "\n",
    "    def error(self):\n",
    "        # Note the ... I assume to catch anything between the previous line and the next line\n",
    "        '''\n",
    "        This function just errors\n",
    "        >>> A().error()\n",
    "        Traceback (most recent call last):\n",
    "        ...\n",
    "        Exception: I am an error\n",
    "        '''\n",
    "        raise Exception('I am an error')"
   ]
  },
  {
   "cell_type": "markdown",
   "metadata": {},
   "source": [
    "Assert\n",
    "\n",
    "assert can be used to check for expected result and error out and print if the result is not as expected."
   ]
  },
  {
   "cell_type": "code",
   "execution_count": 344,
   "metadata": {},
   "outputs": [],
   "source": [
    "def g(x):\n",
    "    assert x > 0, \"My error\"\n",
    "    return x+1\n",
    "\n",
    "assert g(1)==2, \"Unexpected result from g()\"\n",
    "assert g(5)==6, \"Unexpected result from g()\"\n"
   ]
  },
  {
   "cell_type": "markdown",
   "metadata": {},
   "source": [
    "## Test everything"
   ]
  },
  {
   "cell_type": "code",
   "execution_count": 340,
   "metadata": {},
   "outputs": [
    {
     "data": {
      "text/plain": [
       "TestResults(failed=0, attempted=36)"
      ]
     },
     "execution_count": 340,
     "metadata": {},
     "output_type": "execute_result"
    }
   ],
   "source": [
    "import doctest\n",
    "doctest.testmod(verbose=False)"
   ]
  }
 ],
 "metadata": {
  "interpreter": {
   "hash": "aee8b7b246df8f9039afb4144a1f6fd8d2ca17a180786b69acc140d282b71a49"
  },
  "kernelspec": {
   "display_name": "Python 3.9.8 64-bit",
   "language": "python",
   "name": "python3"
  },
  "language_info": {
   "codemirror_mode": {
    "name": "ipython",
    "version": 3
   },
   "file_extension": ".py",
   "mimetype": "text/x-python",
   "name": "python",
   "nbconvert_exporter": "python",
   "pygments_lexer": "ipython3",
   "version": "3.9.8"
  },
  "orig_nbformat": 4
 },
 "nbformat": 4,
 "nbformat_minor": 2
}
