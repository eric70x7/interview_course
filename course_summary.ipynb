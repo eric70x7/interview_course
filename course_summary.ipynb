{
 "cells": [
  {
   "cell_type": "markdown",
   "metadata": {},
   "source": [
    "# Real Python Course Summary & Reference"
   ]
  },
  {
   "cell_type": "markdown",
   "metadata": {},
   "source": [
    "## Imports"
   ]
  },
  {
   "cell_type": "code",
   "execution_count": 1,
   "metadata": {},
   "outputs": [],
   "source": [
    "# imports\n",
    "\n",
    "# pretty print\n",
    "from pprint import pprint\n",
    "\n",
    "import doctest"
   ]
  },
  {
   "cell_type": "markdown",
   "metadata": {},
   "source": [
    "## Helpers"
   ]
  },
  {
   "cell_type": "code",
   "execution_count": 2,
   "metadata": {},
   "outputs": [
    {
     "data": {
      "text/plain": [
       "TestResults(failed=0, attempted=6)"
      ]
     },
     "execution_count": 2,
     "metadata": {},
     "output_type": "execute_result"
    }
   ],
   "source": [
    "# Helpers\n",
    "\n",
    "def one_liner(t):\n",
    "    result=\"\"\n",
    "    for c in t:\n",
    "        result+=f\"{c} \"\n",
    "    print(result)\n",
    "\n",
    "# verify all elements are equal\n",
    "def check_eq(m):\n",
    "    \"\"\"\n",
    "    >>> check_eq([1,1,1])\n",
    "    True\n",
    "    >>> check_eq([[1,0,1], [1,0,1], [1,0,1]])\n",
    "    True\n",
    "    >>> check_eq([[0,1,1], [1,0,1], [1,0,1]])\n",
    "    Traceback (most recent call last):\n",
    "    ...\n",
    "    AssertionError: Lists don't match\n",
    "    >>> check_eq([1,0,1])\n",
    "    Traceback (most recent call last):\n",
    "    ...\n",
    "    AssertionError: Lists don't match\n",
    "    >>> check_eq([0,1,1])\n",
    "    Traceback (most recent call last):\n",
    "    ...\n",
    "    AssertionError: Lists don't match\n",
    "    >>> check_eq([1,1,0])\n",
    "    Traceback (most recent call last):\n",
    "    ...\n",
    "    AssertionError: Lists don't match\n",
    "    \"\"\"\n",
    "    # convert to strings to compare\n",
    "    s=set(f\"{v}\" for v in m)\n",
    "    rval = len(s)==1\n",
    "    if not rval:\n",
    "        breakpoint\n",
    "    assert rval, \"Lists don't match\"\n",
    "    return rval\n",
    "\n",
    "doctest.testmod(verbose=False)"
   ]
  },
  {
   "cell_type": "markdown",
   "metadata": {},
   "source": [
    "## Sequence types\n",
    "\n",
    "https://docs.python.org/3.3/library/stdtypes.html?highlight=tuple#sequence-types-list-tuple-range"
   ]
  },
  {
   "cell_type": "markdown",
   "metadata": {},
   "source": [
    "### Tuples (...)"
   ]
  },
  {
   "cell_type": "markdown",
   "metadata": {},
   "source": [
    "There's no such thing as a tuple comprehension since tuples are immutable, so the syntax using parenthesis was reused for generators."
   ]
  },
  {
   "cell_type": "code",
   "execution_count": 3,
   "metadata": {},
   "outputs": [
    {
     "name": "stdout",
     "output_type": "stream",
     "text": [
      "1 2 3 \n",
      "(1, 2, 3)\n",
      "1 2 3 \n",
      "Tuples are immutable\n"
     ]
    }
   ],
   "source": [
    "# Tuple uses parens (like generator)\n",
    "tup=(1,2,3)\n",
    "one_liner(tup)\n",
    "\n",
    "# or from a list\n",
    "lst=[1,2,3]\n",
    "tup=tuple(lst)\n",
    "print(tup)\n",
    "one_liner(tup)\n",
    "\n",
    "try:\n",
    "    tup[0]=1\n",
    "except:\n",
    "    print(\"Tuples are immutable\")\n"
   ]
  },
  {
   "cell_type": "markdown",
   "metadata": {},
   "source": [
    "### List [...]"
   ]
  },
  {
   "cell_type": "code",
   "execution_count": 5,
   "metadata": {},
   "outputs": [
    {
     "name": "stdout",
     "output_type": "stream",
     "text": [
      "lst=[-1, 0, 1]\n",
      "0,-1 1,0 2,1 \n"
     ]
    }
   ],
   "source": [
    "f=range(-1,2)\n",
    "\n",
    "# list use brackets\n",
    "lst=[n for n in f]\n",
    "print(f\"lst={lst}\")\n",
    "result=\"\"\n",
    "\n",
    "# use enumerate to get the index and the value\n",
    "for i, v in enumerate(lst):\n",
    "    result+=f\"{i},{v} \"\n",
    "print(result)"
   ]
  },
  {
   "cell_type": "markdown",
   "metadata": {},
   "source": [
    "### Generator (...)"
   ]
  },
  {
   "cell_type": "markdown",
   "metadata": {},
   "source": [
    "There's no such thing as a tuple comprehension since tuples are immutable, so the syntax using parenthesis was reused for generators."
   ]
  },
  {
   "cell_type": "code",
   "execution_count": 6,
   "metadata": {},
   "outputs": [
    {
     "name": "stdout",
     "output_type": "stream",
     "text": [
      "1 0 1 \n",
      "{0,-1} {1,0} {2,1} \n"
     ]
    }
   ],
   "source": [
    "# generator use parens\n",
    "gen=(abs(n) for n in f)\n",
    "result=\"\"\n",
    "for v in gen:\n",
    "    result+=f\"{v} \"\n",
    "print(result)\n",
    "\n",
    "# note we have to regenerate the generator whenever it gets depleted\n",
    "gen=(n for n in f)\n",
    "result=\"\"\n",
    "for i, v in enumerate(gen):\n",
    "    result+=\"{\"+f\"{i},{v}\"+\"} \"\n",
    "print(result)\n"
   ]
  },
  {
   "cell_type": "markdown",
   "metadata": {},
   "source": [
    "## Container types\n",
    "\n",
    "https://docs.python.org/3.3/library/stdtypes.html?highlight=tuple#set-types-set-frozenset\n",
    "https://docs.python.org/3/tutorial/datastructures.html#dictionaries"
   ]
  },
  {
   "cell_type": "markdown",
   "metadata": {},
   "source": [
    "### Set {...}"
   ]
  },
  {
   "cell_type": "code",
   "execution_count": 25,
   "metadata": {},
   "outputs": [
    {
     "name": "stdout",
     "output_type": "stream",
     "text": [
      "[1, 0, 1]\n"
     ]
    },
    {
     "data": {
      "text/plain": [
       "True"
      ]
     },
     "execution_count": 25,
     "metadata": {},
     "output_type": "execute_result"
    }
   ],
   "source": [
    "result=[]\n",
    "lst=[abs(n) for n in f]\n",
    "pprint(lst)\n",
    "# set use curly braces\n",
    "r={abs(n) for n in f}\n",
    "result.append(r)\n",
    "# or convert from iterable\n",
    "r=set(lst)\n",
    "result.append(r)\n",
    "\n",
    "check_eq(result)"
   ]
  },
  {
   "cell_type": "markdown",
   "metadata": {},
   "source": [
    "### Dictionaries {...}"
   ]
  },
  {
   "cell_type": "markdown",
   "metadata": {},
   "source": [
    "Dictionaries are like sets but with key, value pairs"
   ]
  },
  {
   "cell_type": "code",
   "execution_count": 26,
   "metadata": {},
   "outputs": [
    {
     "name": "stdout",
     "output_type": "stream",
     "text": [
      "{'Eric': {'Feet': 6, 'Inches': 0}, 'Annette': {'Feet': 5, 'Inches': 2}}\n",
      "{'Feet': 6, 'Inches': 0}\n",
      "{'Feet': 5, 'Inches': 2}\n",
      "6\n"
     ]
    }
   ],
   "source": [
    "# Dictionaries use curly braces but with indeces unlike sets.\n",
    "# But the indeces in a dict are all unique like a set.\n",
    "\n",
    "height = { \n",
    "    \"Eric\": {\"Feet\": 6, \"Inches\": 0},\n",
    "    \"Annette\": {\"Feet\": 5, \"Inches\": 2},\n",
    "}\n",
    "print(height)\n",
    "print(height[\"Eric\"])\n",
    "print(height[\"Annette\"])\n",
    "print(height[\"Eric\"][\"Feet\"])"
   ]
  },
  {
   "cell_type": "markdown",
   "metadata": {},
   "source": [
    "### Collections"
   ]
  },
  {
   "cell_type": "markdown",
   "metadata": {},
   "source": [
    "Collections are Container datatypes"
   ]
  },
  {
   "cell_type": "markdown",
   "metadata": {},
   "source": [
    "#### defaultdict"
   ]
  },
  {
   "cell_type": "markdown",
   "metadata": {},
   "source": [
    "defaultdict provides some control over the default structure of a dict"
   ]
  },
  {
   "cell_type": "code",
   "execution_count": 27,
   "metadata": {},
   "outputs": [
    {
     "name": "stdout",
     "output_type": "stream",
     "text": [
      "{'Code': 0, 'Price': 0.0}\n",
      "{'Code': 0, 'Price': 0.0}\n",
      "new {'Code': 0, 'Price': 0.0}\n",
      "newer {'Code': 0, 'Price': 0.0}\n",
      "newest {'Code': 'wxy', 'Price': 0.0}\n"
     ]
    }
   ],
   "source": [
    "from collections import defaultdict\n",
    "\n",
    "def item(code=0, price=0.0):\n",
    "    return {\"Code\" : code, \"Price\" : price}\n",
    "\n",
    "# The {} could have some initial value for the dict\n",
    "d=defaultdict(item, {})\n",
    "\n",
    "# referencing an entry that doesn't exist will create one using the default\n",
    "print(d[\"new\"])\n",
    "print(d[\"newer\"])\n",
    "d[\"newest\"][\"Code\"]='wxy'\n",
    "\n",
    "# d.items() is like enumerate on a list\n",
    "for i, v in d.items():\n",
    "    print(i, v)\n"
   ]
  },
  {
   "cell_type": "markdown",
   "metadata": {},
   "source": [
    "#### namedtuple"
   ]
  },
  {
   "cell_type": "markdown",
   "metadata": {},
   "source": [
    "named tuples are like tuples but accessible using named indeces like a dict\n",
    "\n",
    "named tuples are like dicts but they are immutable"
   ]
  },
  {
   "cell_type": "code",
   "execution_count": 28,
   "metadata": {},
   "outputs": [
    {
     "name": "stdout",
     "output_type": "stream",
     "text": [
      "my_complex(r=1.0, i=-1.0) 1.0 1.0\n",
      "You must initialize a named tuple with values\n"
     ]
    }
   ],
   "source": [
    "from collections import namedtuple\n",
    "\n",
    "MyComplex=namedtuple(\"my_complex\", [\"r\",\"i\"])\n",
    "\n",
    "x=MyComplex(1.0, -1.0)\n",
    "print(x, x.r, x[0])\n",
    "\n",
    "try:\n",
    "    y=MyComplex()\n",
    "except(TypeError):\n",
    "    print(\"You must initialize a named tuple with values\")\n"
   ]
  },
  {
   "cell_type": "markdown",
   "metadata": {},
   "source": [
    "## Operations on sequence types"
   ]
  },
  {
   "cell_type": "markdown",
   "metadata": {},
   "source": [
    "### map"
   ]
  },
  {
   "cell_type": "markdown",
   "metadata": {},
   "source": [
    "map applies a function to all of the elements in a list"
   ]
  },
  {
   "cell_type": "code",
   "execution_count": 8,
   "metadata": {},
   "outputs": [
    {
     "name": "stdout",
     "output_type": "stream",
     "text": [
      "[1, 0, 1]\n",
      "[1, 0, 1]\n",
      "You can't do that with a list\n"
     ]
    }
   ],
   "source": [
    "results=[]\n",
    "\n",
    "lst=[m for m in f]\n",
    "m=[m for m in map(abs, lst)]\n",
    "print(m)\n",
    "results.append(m)\n",
    "\n",
    "# or just assign\n",
    "m=list(map(abs,lst))\n",
    "print(m)\n",
    "results.append(m)\n",
    "\n",
    "check_eq(results)\n",
    "\n",
    "# you can't do it directly\n",
    "try:\n",
    "    m2=abs(lst)\n",
    "except:\n",
    "    print(\"You can't do that with a list\")"
   ]
  },
  {
   "cell_type": "markdown",
   "metadata": {},
   "source": [
    "### filter"
   ]
  },
  {
   "cell_type": "markdown",
   "metadata": {},
   "source": [
    "filter selects elements in list based on a bool function"
   ]
  },
  {
   "cell_type": "code",
   "execution_count": 30,
   "metadata": {},
   "outputs": [
    {
     "data": {
      "text/plain": [
       "True"
      ]
     },
     "execution_count": 30,
     "metadata": {},
     "output_type": "execute_result"
    }
   ],
   "source": [
    "results=[]\n",
    "def lt_zero(n):\n",
    "    return n<0\n",
    "m=[m for m in filter(lt_zero, lst)]\n",
    "results.append(m)\n",
    "\n",
    "# or just assign\n",
    "m=list(filter(lt_zero, lst))\n",
    "results.append(m)\n",
    "check_eq(results)"
   ]
  },
  {
   "cell_type": "markdown",
   "metadata": {},
   "source": [
    "### keys"
   ]
  },
  {
   "cell_type": "markdown",
   "metadata": {},
   "source": [
    "keys are the hooks in std function to override what criteria is used to run the std function"
   ]
  },
  {
   "cell_type": "code",
   "execution_count": 9,
   "metadata": {},
   "outputs": [
    {
     "name": "stdout",
     "output_type": "stream",
     "text": [
      "-1\n"
     ]
    },
    {
     "data": {
      "text/plain": [
       "True"
      ]
     },
     "execution_count": 9,
     "metadata": {},
     "output_type": "execute_result"
    }
   ],
   "source": [
    "m=min(lst)\n",
    "print(m)\n",
    "\n",
    "\n",
    "result=[]\n",
    "# use function\n",
    "m=min(lst,key=abs)\n",
    "result.append(m)\n",
    "\n",
    "# use lambda\n",
    "m=min(lst,key=lambda x: abs(x))\n",
    "result.append(m)\n",
    "\n",
    "check_eq(result)\n"
   ]
  },
  {
   "cell_type": "code",
   "execution_count": 32,
   "metadata": {},
   "outputs": [
    {
     "name": "stdout",
     "output_type": "stream",
     "text": [
      "[-1, 0, 1]\n",
      "[1, 0, -1]\n",
      "[0, -1, 1]\n"
     ]
    }
   ],
   "source": [
    "\n",
    "print(sorted(lst))\n",
    "print(sorted(lst,key=lambda x: -x))\n",
    "print(sorted(lst,key=lambda x: abs(x)))"
   ]
  },
  {
   "cell_type": "markdown",
   "metadata": {},
   "source": [
    "# Python Standard Library"
   ]
  },
  {
   "cell_type": "markdown",
   "metadata": {},
   "source": [
    "## string\n",
    "\n",
    "https://docs.python.org/3/library/string.html\n",
    "\n"
   ]
  },
  {
   "cell_type": "code",
   "execution_count": 35,
   "metadata": {},
   "outputs": [
    {
     "name": "stdout",
     "output_type": "stream",
     "text": [
      "97\n",
      "\n"
     ]
    }
   ],
   "source": [
    "# ord returns the underlying numeric representation of a character\n",
    "print(ord('a'))\n",
    "\n",
    "# parse by separator\n",
    "print()"
   ]
  },
  {
   "cell_type": "markdown",
   "metadata": {},
   "source": [
    "## itertools\n",
    "\n",
    "Functions creating iterators for efficient looping.\n",
    "\n",
    "https://docs.python.org/3/library/itertools.html\n",
    "\n"
   ]
  },
  {
   "cell_type": "markdown",
   "metadata": {},
   "source": [
    "## functools\n",
    "\n",
    "https://docs.python.org/3/library/functools.html"
   ]
  }
 ],
 "metadata": {
  "interpreter": {
   "hash": "aee8b7b246df8f9039afb4144a1f6fd8d2ca17a180786b69acc140d282b71a49"
  },
  "kernelspec": {
   "display_name": "Python 3.9.8 64-bit",
   "language": "python",
   "name": "python3"
  },
  "language_info": {
   "codemirror_mode": {
    "name": "ipython",
    "version": 3
   },
   "file_extension": ".py",
   "mimetype": "text/x-python",
   "name": "python",
   "nbconvert_exporter": "python",
   "pygments_lexer": "ipython3",
   "version": "3.9.8"
  },
  "orig_nbformat": 4
 },
 "nbformat": 4,
 "nbformat_minor": 2
}
