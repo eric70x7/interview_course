{
 "cells": [
  {
   "cell_type": "code",
   "execution_count": 113,
   "metadata": {},
   "outputs": [],
   "source": [
    "from collections import deque\n",
    "\n",
    "def keypad_string(keys):\n",
    "    '''\n",
    "    Given a string consisting of 0-9,\n",
    "    find the string that is created using\n",
    "    a standard phone keypad\n",
    "    | 1        | 2 (abc) | 3 (def)  |\n",
    "    | 4 (ghi)  | 5 (jkl) | 6 (mno)  |\n",
    "    | 7 (pqrs) | 8 (tuv) | 9 (wxyz) |\n",
    "    |     *    | 0 ( )   |     #    |\n",
    "    You can ignore 1, and 0 corresponds to space\n",
    "    >>> keypad_string(\"12345\")\n",
    "    'adgj'\n",
    "    >>> keypad_string(\"4433555555666\")\n",
    "    'hello'\n",
    "    >>> keypad_string(\"2022\")\n",
    "    'a b'\n",
    "    >>> keypad_string(\"\")\n",
    "    ''\n",
    "    >>> keypad_string(\"111\")\n",
    "    ''\n",
    "    >>> keypad_string(\"000**#\")\n",
    "    '   '\n",
    "    '''\n",
    "    if keys == \"\":\n",
    "        return \"\"\n",
    "    \n",
    "    # parse the string to get the digit and the number of occurrances\n",
    "    lt_idx=[]\n",
    "    lt_idx.append([keys[0],1])\n",
    "\n",
    "    for i in range(1,len(keys)):\n",
    "        c=keys[i]\n",
    "        if c == lt_idx[-1][0]:\n",
    "            lt_idx[-1][1] = lt_idx[-1][1]+1\n",
    "        else:\n",
    "            lt_idx.append([c,1])\n",
    "    \n",
    "    # set up 2-d lookup table:\n",
    "    lt = { '0': ' ',    '2': 'abc', '3': 'def',\n",
    "           '4': 'ghi',  '5': 'jkl', '6': 'mno', \n",
    "           '7': 'pqrs', '8': 'tuv', '9': 'wxyz'}\n",
    "\n",
    "    possible_keys = [m for m in lt.keys()]\n",
    "\n",
    "    r=''\n",
    "    for c in lt_idx:\n",
    "        digit=c[0]\n",
    "        count=c[1]\n",
    "        if digit in possible_keys:\n",
    "            while count > 0:\n",
    "                lp_count = min([count, len(lt[digit])])\n",
    "                r+=lt[digit][lp_count-1]\n",
    "                count = count - lp_count\n",
    "\n",
    "    return r"
   ]
  },
  {
   "cell_type": "code",
   "execution_count": 114,
   "metadata": {},
   "outputs": [
    {
     "name": "stdout",
     "output_type": "stream",
     "text": [
      "3.57 µs ± 65.7 ns per loop (mean ± std. dev. of 7 runs, 100,000 loops each)\n"
     ]
    }
   ],
   "source": [
    "keys=\"22334\"\n",
    "%timeit keypad_string(keys)"
   ]
  },
  {
   "cell_type": "code",
   "execution_count": 115,
   "metadata": {},
   "outputs": [
    {
     "data": {
      "text/plain": [
       "TestResults(failed=0, attempted=6)"
      ]
     },
     "execution_count": 115,
     "metadata": {},
     "output_type": "execute_result"
    }
   ],
   "source": [
    "import doctest\n",
    "\n",
    "doctest.testmod(verbose=False)"
   ]
  }
 ],
 "metadata": {
  "interpreter": {
   "hash": "aee8b7b246df8f9039afb4144a1f6fd8d2ca17a180786b69acc140d282b71a49"
  },
  "kernelspec": {
   "display_name": "Python 3.9.8 64-bit",
   "language": "python",
   "name": "python3"
  },
  "language_info": {
   "codemirror_mode": {
    "name": "ipython",
    "version": 3
   },
   "file_extension": ".py",
   "mimetype": "text/x-python",
   "name": "python",
   "nbconvert_exporter": "python",
   "pygments_lexer": "ipython3",
   "version": "3.9.8"
  },
  "orig_nbformat": 4
 },
 "nbformat": 4,
 "nbformat_minor": 2
}
