{
 "cells": [
  {
   "cell_type": "code",
   "execution_count": 4,
   "metadata": {},
   "outputs": [],
   "source": [
    "class Link:\n",
    "    def __init__(self, val, next=None):\n",
    "        self.val = val\n",
    "        self.next = next\n",
    "\n",
    "    def __repr__(self):\n",
    "        if not self.next:\n",
    "            return f\"Link({self.val})\"\n",
    "        return f\"Link({self.val}, {self.next})\"\n",
    "    \n",
    "    def __iter__(self):\n",
    "        \"\"\"\n",
    "        Iterate over the linked list from this node to the end\n",
    "        >>> [f\"{l}\" for l in Link(0,Link(1, Link(2)))]\n",
    "        ['Link(0, Link(1, Link(2)))', 'Link(1, Link(2))', 'Link(2)']\n",
    "        \"\"\"\n",
    "        node = self\n",
    "        while node.next:\n",
    "            yield node\n",
    "            node = node.next\n",
    "        yield node\n",
    "\n",
    "    def tail(self):\n",
    "        \"\"\"\n",
    "        >>> print(Link(0, Link(1, Link(-1))).tail())\n",
    "        Link(-1)\n",
    "        \"\"\"\n",
    "        lst=[l for l in self]\n",
    "        return(lst[-1])\n",
    "\n",
    "    def append(self, link):\n",
    "        \"\"\"\n",
    "        >>> print(f\"{Link(0).append(Link(1))}\")\n",
    "        Link(0, Link(1))\n",
    "        \"\"\"\n",
    "        self.tail().next=link\n",
    "        return self\n",
    "\n",
    "    def __iadd__(self, link):\n",
    "        \"\"\"\n",
    "        >>> l0=Link(0)\n",
    "        >>> l0 += Link(1)\n",
    "        >>> print(f\"{l0}\")\n",
    "        Link(0, Link(1))\n",
    "        \"\"\"\n",
    "        self.append(link)\n",
    "        return self\n",
    "\n",
    "    def __add__(self, link):\n",
    "        \"\"\"\n",
    "        >>> print(f\"{Link(0)+Link(1)}\")\n",
    "        Link(0, Link(1))\n",
    "        \"\"\"\n",
    "        self.append(link)\n",
    "        return self\n",
    "\n",
    "\n",
    "def get_tail(link):\n",
    "    \"\"\"\n",
    "    Return the tail object of a linked list\n",
    "    >>> print(get_tail(Link(1, Link(2, Link(3)))))\n",
    "    Link(3)\n",
    "    \"\"\"\n",
    "    my_l = link\n",
    "    while my_l.next:\n",
    "        my_l = my_l.next\n",
    "    return my_l\n",
    "\n",
    "def relink_list(lst):\n",
    "    \"\"\"\n",
    "    Link a list of linked list objects in the order of the list\n",
    "    >>> print(relink_list([Link(0, Link(4)), Link(4), Link(3, Link(0))]))\n",
    "    Link(0, Link(4, Link(3)))\n",
    "    \"\"\"\n",
    "    for i,_ in enumerate(lst):\n",
    "        if i<len(lst)-1:\n",
    "            lst[i].next=lst[i+1]\n",
    "    lst[-1].next=None\n",
    "    return lst[0]\n",
    "    \n",
    "def sort_list(link):\n",
    "    \"\"\"\n",
    "    Sort a linked list by value\n",
    "    >>> print(sort_list(Link(3, Link(1, Link(5, Link(0))))))\n",
    "    Link(0, Link(1, Link(3, Link(5))))\n",
    "    \"\"\"\n",
    "    # Put links into a list\n",
    "    # use __iter__ defined in Link class\n",
    "    lst=[l for l in link]\n",
    "\n",
    "    # sort it by the value\n",
    "    sorted_lst=sorted(lst, key=lambda m : m.val)\n",
    "\n",
    "    # re-link the list\n",
    "    my_l = relink_list(sorted_lst)\n",
    "\n",
    "    return(my_l)\n",
    "\n",
    "def merge_k_linked_lists(linked_lists):\n",
    "    '''\n",
    "    Merge k sorted linked lists into one\n",
    "    sorted linked list.\n",
    "    >>> print(merge_k_linked_lists([\n",
    "    ...     Link(1, Link(2)),\n",
    "    ...     Link(3, Link(4))\n",
    "    ... ]))\n",
    "    Link(1, Link(2, Link(3, Link(4))))\n",
    "    >>> print(merge_k_linked_lists([\n",
    "    ...     Link(1, Link(2)),\n",
    "    ...     Link(2, Link(4)),\n",
    "    ...     Link(3, Link(3)),\n",
    "    ... ]))\n",
    "    Link(1, Link(2, Link(2, Link(3, Link(3, Link(4))))))\n",
    "    '''\n",
    "    ll=linked_lists\n",
    "    for i,_ in enumerate(ll):\n",
    "        if (i<len(ll)-1):\n",
    "            ll[i] += ll[i+1]\n",
    "    \n",
    "    return(sort_list(ll[0]))\n",
    "        \n"
   ]
  },
  {
   "cell_type": "code",
   "execution_count": 5,
   "metadata": {},
   "outputs": [
    {
     "data": {
      "text/plain": [
       "TestResults(failed=0, attempted=12)"
      ]
     },
     "execution_count": 5,
     "metadata": {},
     "output_type": "execute_result"
    }
   ],
   "source": [
    "import doctest\n",
    "\n",
    "doctest.testmod()"
   ]
  },
  {
   "cell_type": "code",
   "execution_count": 6,
   "metadata": {},
   "outputs": [
    {
     "name": "stdout",
     "output_type": "stream",
     "text": [
      "Link(-1, Link(0, Link(1, Link(2, Link(3, Link(4))))))\n"
     ]
    }
   ],
   "source": [
    "l=merge_k_linked_lists([Link(1, Link(2)),Link(4, Link(3)), Link(0, Link(-1))])\n",
    "print(sort_list(l))"
   ]
  }
 ],
 "metadata": {
  "interpreter": {
   "hash": "aee8b7b246df8f9039afb4144a1f6fd8d2ca17a180786b69acc140d282b71a49"
  },
  "kernelspec": {
   "display_name": "Python 3.9.8 64-bit",
   "language": "python",
   "name": "python3"
  },
  "language_info": {
   "codemirror_mode": {
    "name": "ipython",
    "version": 3
   },
   "file_extension": ".py",
   "mimetype": "text/x-python",
   "name": "python",
   "nbconvert_exporter": "python",
   "pygments_lexer": "ipython3",
   "version": "3.9.8"
  },
  "orig_nbformat": 4
 },
 "nbformat": 4,
 "nbformat_minor": 2
}
